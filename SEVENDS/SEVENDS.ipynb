{
 "cells": [
  {
   "cell_type": "code",
   "execution_count": 36,
   "metadata": {},
   "outputs": [
    {
     "name": "stdout",
     "output_type": "stream",
     "text": [
      "Connexion réussie\n"
     ]
    }
   ],
   "source": [
    "import pymongo\n",
    "import json\n",
    "from pprint import pprint\n",
    "from pymongo import MongoClient\n",
    "client = MongoClient('localhost', 27017)\n",
    "print(\"Connexion réussie\")"
   ]
  },
  {
   "cell_type": "code",
   "execution_count": 44,
   "metadata": {},
   "outputs": [
    {
     "name": "stdout",
     "output_type": "stream",
     "text": [
      "Création de la DB Réussie\n"
     ]
    }
   ],
   "source": [
    "db = client.SEVENDS\n",
    "personnages = db.Personnages\n",
    "print(\"Création de la DB Réussie\")"
   ]
  },
  {
   "cell_type": "code",
   "execution_count": 45,
   "metadata": {},
   "outputs": [
    {
     "data": {
      "text/plain": [
       "<pymongo.results.InsertManyResult at 0x220b05cffc0>"
      ]
     },
     "execution_count": 45,
     "metadata": {},
     "output_type": "execute_result"
    }
   ],
   "source": [
    "with open('Sevends_2 (2).json') as f:\n",
    "    x = json.load(f)\n",
    "\n",
    "personnages.drop()\n",
    "\n",
    "personnnages.insert_many(x)"
   ]
  },
  {
   "cell_type": "code",
   "execution_count": 50,
   "metadata": {},
   "outputs": [
    {
     "name": "stdout",
     "output_type": "stream",
     "text": [
      "{'_id': ObjectId('60195e96c9a34396d6d395cf'),\n",
      " 'attribut': 'rapide',\n",
      " 'equipe': 'seven_deadly_sins',\n",
      " 'genre': [{'race': 'demon', 'sexe': 'homme'}],\n",
      " 'id': 1,\n",
      " 'magie': 'full_counter',\n",
      " 'name': 'Meliodas',\n",
      " 'note': 'Chef_des_seven_deadly_sins',\n",
      " 'puissance_total': 142000}\n",
      "{'_id': ObjectId('60195e96c9a34396d6d395d0'),\n",
      " 'attribut': 'force',\n",
      " 'commandement': 'piete',\n",
      " 'equipe': 'ten_commandments',\n",
      " 'genre': [{'race': 'demon', 'sexe': 'homme'}],\n",
      " 'id': 2,\n",
      " 'magie': 'obvious_nebula',\n",
      " 'name': 'Zeldris',\n",
      " 'note': 'Chef_des_ten_commandments',\n",
      " 'puissance_total': 61000}\n",
      "{'_id': ObjectId('60195e96c9a34396d6d395d1'),\n",
      " 'attribut': 'rapide',\n",
      " 'equipe': 'seven_deadly_sins',\n",
      " 'genre': [{'race': 'fee', 'sexe': 'homme'}],\n",
      " 'id': 3,\n",
      " 'magie': 'desaster',\n",
      " 'name': 'King',\n",
      " 'note': 'roi_des_fees',\n",
      " 'puissance_total': 41000}\n",
      "{'_id': ObjectId('60195e96c9a34396d6d395d2'),\n",
      " 'attribut': 'force',\n",
      " 'commandement': 'repos',\n",
      " 'equipe': 'ten_commandments',\n",
      " 'genre': [{'race': 'fee', 'sexe': 'homme'}],\n",
      " 'id': 4,\n",
      " 'magie': 'lance_chastivol',\n",
      " 'name': 'Gloxenia',\n",
      " 'note': 'ancien_roi_des_fees',\n",
      " 'puissance_total': 50000}\n",
      "{'_id': ObjectId('60195e96c9a34396d6d395d3'),\n",
      " 'attribut': 'force',\n",
      " 'commandement': 'verite',\n",
      " 'equipe': 'ten_commandments',\n",
      " 'genre': [{'race': 'demon', 'sexe': 'inconnu'}],\n",
      " 'id': 5,\n",
      " 'magie': 'etat_critique',\n",
      " 'name': 'Galan',\n",
      " 'note': 'aime_jouer_au_jeu_de_galan',\n",
      " 'puissance_total': 40000}\n",
      "{'_id': ObjectId('60195e96c9a34396d6d395d4'),\n",
      " 'attribut': 'pv',\n",
      " 'equipe': 'seven_deadly_sins',\n",
      " 'genre': [{'race': 'homme', 'sexe': 'homme'}],\n",
      " 'id': 6,\n",
      " 'magie': 'soleil',\n",
      " 'name': 'Escanor',\n",
      " 'note': \"L'homme_le_plus_fort_des_seven_deadly_sins\",\n",
      " 'puissance_total': 216000}\n",
      "{'_id': ObjectId('60195e96c9a34396d6d395d5'),\n",
      " 'attribut': 'pv',\n",
      " 'equipe': 'seven_deadly_sins',\n",
      " 'genre': [{'race': 'geant', 'sexe': 'femme'}],\n",
      " 'id': 7,\n",
      " 'magie': 'creation',\n",
      " 'name': 'Diane',\n",
      " 'note': 'a_perdu_la_memoire',\n",
      " 'puissance_total': 48000}\n",
      "{'_id': ObjectId('60195e96c9a34396d6d395d6'),\n",
      " 'attribut': 'force',\n",
      " 'commandement': 'patience',\n",
      " 'equipe': 'ten_commandments',\n",
      " 'genre': [{'race': 'geant', 'sexe': 'homme'}],\n",
      " 'id': 8,\n",
      " 'magie': 'oeil_magique',\n",
      " 'name': 'Dolor',\n",
      " 'note': 'ancien_roi_des_geants',\n",
      " 'puissance_total': 54000}\n",
      "{'_id': ObjectId('60195e96c9a34396d6d395d7'),\n",
      " 'attribut': 'rapide',\n",
      " 'commandement': 'foi',\n",
      " 'equipe': 'ten_commandments',\n",
      " 'genre': [{'race': 'demon', 'sexe': 'femme'}],\n",
      " 'id': 9,\n",
      " 'magie': 'cocon_des_tenebres',\n",
      " 'name': 'Melascula',\n",
      " 'note': \"aime_l'alcool_plus_que_les_ames\",\n",
      " 'puissance_total': 34000}\n",
      "{'_id': ObjectId('60195e96c9a34396d6d395d8'),\n",
      " 'attribut': 'rapide',\n",
      " 'equipe': 'seven_deadly_sins',\n",
      " 'genre': [{'race': 'humain', 'sexe': 'homme'}],\n",
      " 'id': 10,\n",
      " 'magie': 'Detournement',\n",
      " 'name': 'Ban',\n",
      " 'note': 'il_est_immortel_et_il_est_meilleur_ami_de_Meliodas',\n",
      " 'puissance_total': 3220}\n",
      "{'_id': ObjectId('60195e96c9a34396d6d395d9'),\n",
      " 'attribut': 'rapide',\n",
      " 'equipe': 'seven_deadly_sins',\n",
      " 'genre': [{'race': 'inconnu', 'sexe': 'femme'}],\n",
      " 'id': 11,\n",
      " 'name': 'Merlin',\n",
      " 'note': \"A_plusieurs_disiple_pour_l'aider_dans_ces_recherches\",\n",
      " 'puissance_total': 4710}\n",
      "{'_id': ObjectId('60195e96c9a34396d6d395da'),\n",
      " 'attribut': 'pv',\n",
      " 'commandment': 'charite',\n",
      " 'equipe': 'ten_commandments',\n",
      " 'genre': [{'race': 'demon', 'sexe': 'homme'}],\n",
      " 'id': 12,\n",
      " 'magie': 'full_counter',\n",
      " 'name': 'Estarosas',\n",
      " 'note': 'Aime_chasser_les_dragons',\n",
      " 'puissance_total': 200000}\n",
      "{'_id': ObjectId('60195e96c9a34396d6d395db'),\n",
      " 'attribut': 'force',\n",
      " 'equipe': 'seven_deadly_sins',\n",
      " 'genre': [{'race': 'pantin', 'sexe': 'homme'}],\n",
      " 'id': 13,\n",
      " 'magie': 'intrusion',\n",
      " 'name': 'Gowther',\n",
      " 'note': 'cherche_a_comprendre_les_sentiments',\n",
      " 'puissance_total': 3100}\n",
      "{'_id': ObjectId('60195e96c9a34396d6d395dc'),\n",
      " 'attribut': 'rapide',\n",
      " 'commandment': 'pacifisme',\n",
      " 'equipe': 'ten_commandments',\n",
      " 'genre': [{'race': 'demon', 'sexe': 'inconnu'}],\n",
      " 'id': 14,\n",
      " 'magie': 'malediction',\n",
      " 'name': 'Gray Road',\n",
      " 'note': 'Aime_utiliser_les_humains_pour_les_transformer_en_demon',\n",
      " 'puissance_total': 39000}\n",
      "{'_id': ObjectId('60195e96c9a34396d6d395dd'),\n",
      " 'attribut': 'force',\n",
      " 'commandment': 'reticence',\n",
      " 'equipe': 'ten_commandments',\n",
      " 'genre': [{'race': 'demon', 'sexe': 'homme'}],\n",
      " 'id': 15,\n",
      " 'magie': 'phenix_infernal',\n",
      " 'name': 'Monspiet',\n",
      " 'note': \"N'a_jamais_exprime_ces_sentiments\",\n",
      " 'puissance_total': 53000}\n",
      "{'_id': ObjectId('60195e96c9a34396d6d395de'),\n",
      " 'attribut': 'rapide',\n",
      " 'commandment': 'purete',\n",
      " 'equipe': 'ten_commandments',\n",
      " 'genre': [{'race': 'demon', 'sexe': 'femme'}],\n",
      " 'id': 16,\n",
      " 'magie': 'combo_etoile',\n",
      " 'name': 'Derrierie',\n",
      " 'note': 'Plus_elle_frappe_plus_elle_fait_mal',\n",
      " 'puissance_total': 52000}\n",
      "{'_id': ObjectId('60195e96c9a34396d6d395df'),\n",
      " 'attribut': 'pv',\n",
      " 'commandment': 'altruisme',\n",
      " 'equipe': 'ten_commandments',\n",
      " 'genre': [{'race': 'demon', 'sexe': 'homme'}],\n",
      " 'id': 17,\n",
      " 'magie': 'grandeur_nature',\n",
      " 'name': 'Fraudrin',\n",
      " 'note': 'il_est_le_remplacant_du_veritable_commandement',\n",
      " 'puissance_total': 31000}\n",
      "{'_id': ObjectId('60195e96c9a34396d6d395e0'),\n",
      " 'attribut': 'rapide',\n",
      " 'equipe': 'four_archangels',\n",
      " 'genre': [{'race': 'ange', 'sexe': 'homme'}],\n",
      " 'grace': 'tornade',\n",
      " 'id': 18,\n",
      " 'magie': 'ark',\n",
      " 'name': 'Sariel',\n",
      " 'note': 'aime_faire_des_paries_avec_Tarmiel',\n",
      " 'puissance_total': ''}\n",
      "{'_id': ObjectId('60195e96c9a34396d6d395e1'),\n",
      " 'attribut': 'pv',\n",
      " 'equipe': 'four_archangels',\n",
      " 'genre': [{'race': 'ange', 'sexe': 'homme'}],\n",
      " 'grace': 'ocean',\n",
      " 'id': 19,\n",
      " 'magie': 'ark',\n",
      " 'name': 'Tarmiel',\n",
      " 'note': 'proche_de_Sariel',\n",
      " 'puissance_total': ''}\n",
      "{'_id': ObjectId('60195e96c9a34396d6d395e2'),\n",
      " 'attribut': 'force',\n",
      " 'equipe': 'four_archangels',\n",
      " 'genre': [{'race': 'ange', 'sexe': 'homme'}],\n",
      " 'grace': 'eclair',\n",
      " 'id': 20,\n",
      " 'magie': 'ark_omega',\n",
      " 'name': 'Ludeciel',\n",
      " 'note': 'Il_est_le_frere_du_dernier_archange_Mael',\n",
      " 'puissance_total': 201000}\n",
      "{'_id': ObjectId('60195e96c9a34396d6d395e3'),\n",
      " 'attribut': 'force',\n",
      " 'equipe': 'four_archangels',\n",
      " 'genre': [{'race': 'ange', 'sexe': 'homme'}],\n",
      " 'grace': 'Soleil',\n",
      " 'id': 21,\n",
      " 'magie': 'ark_omega',\n",
      " 'name': 'Mael',\n",
      " 'note': 'invincible_a_midi_pendant_une_minute',\n",
      " 'puissance_total': '',\n",
      " 'sexe': 'homme'}\n"
     ]
    }
   ],
   "source": [
    "for x in personnages.find():\n",
    "    pprint(x)"
   ]
  },
  {
   "cell_type": "code",
   "execution_count": 51,
   "metadata": {},
   "outputs": [
    {
     "data": {
      "text/plain": [
       "{'_id': ObjectId('60195e96c9a34396d6d395cf'),\n",
       " 'id': 1,\n",
       " 'name': 'Meliodas',\n",
       " 'genre': [{'race': 'demon', 'sexe': 'homme'}],\n",
       " 'equipe': 'seven_deadly_sins',\n",
       " 'magie': 'full_counter',\n",
       " 'attribut': 'rapide',\n",
       " 'puissance_total': 142000,\n",
       " 'note': 'Chef_des_seven_deadly_sins'}"
      ]
     },
     "execution_count": 51,
     "metadata": {},
     "output_type": "execute_result"
    }
   ],
   "source": [
    "personnages.find_one()\n",
    " "
   ]
  },
  {
   "cell_type": "code",
   "execution_count": 52,
   "metadata": {},
   "outputs": [
    {
     "data": {
      "text/plain": [
       "21"
      ]
     },
     "execution_count": 52,
     "metadata": {},
     "output_type": "execute_result"
    }
   ],
   "source": [
    "personnages.count_documents({})"
   ]
  },
  {
   "cell_type": "code",
   "execution_count": 55,
   "metadata": {},
   "outputs": [
    {
     "name": "stdout",
     "output_type": "stream",
     "text": [
      "{'name': 'Meliodas'}\n",
      "{'name': 'King'}\n",
      "{'name': 'Escanor'}\n",
      "{'name': 'Diane'}\n",
      "{'name': 'Ban'}\n",
      "{'name': 'Merlin'}\n",
      "{'name': 'Gowther'}\n"
     ]
    }
   ],
   "source": [
    "for x in personnages.find({\"equipe\" : \"seven_deadly_sins\"}, {\"_id\": 0, \"name\":1}):\n",
    "    pprint(x)"
   ]
  },
  {
   "cell_type": "code",
   "execution_count": 56,
   "metadata": {},
   "outputs": [
    {
     "name": "stdout",
     "output_type": "stream",
     "text": [
      "{'name': 'Zeldris'}\n",
      "{'name': 'Gloxenia'}\n",
      "{'name': 'Galan'}\n",
      "{'name': 'Dolor'}\n",
      "{'name': 'Melascula'}\n",
      "{'name': 'Estarosas'}\n",
      "{'name': 'Gray Road'}\n",
      "{'name': 'Monspiet'}\n",
      "{'name': 'Derrierie'}\n",
      "{'name': 'Fraudrin'}\n"
     ]
    }
   ],
   "source": [
    "for x in personnages.find({\"equipe\" : \"ten_commandments\"}, {\"_id\": 0, \"name\":1}):\n",
    "    pprint(x)"
   ]
  },
  {
   "cell_type": "code",
   "execution_count": 59,
   "metadata": {},
   "outputs": [
    {
     "name": "stdout",
     "output_type": "stream",
     "text": [
      "{'name': 'Diane'}\n",
      "{'name': 'Melascula'}\n",
      "{'name': 'Merlin'}\n",
      "{'name': 'Derrierie'}\n"
     ]
    }
   ],
   "source": [
    "for x in personnages.find({\"genre.sexe\" : \"femme\"}, {\"_id\": 0 , \"name\": 1}):\n",
    "    pprint(x)"
   ]
  },
  {
   "cell_type": "code",
   "execution_count": 63,
   "metadata": {},
   "outputs": [
    {
     "name": "stdout",
     "output_type": "stream",
     "text": [
      "{'name': 'Meliodas'}\n",
      "{'name': 'Escanor'}\n",
      "{'name': 'Estarosas'}\n",
      "{'name': 'Ludeciel'}\n"
     ]
    }
   ],
   "source": [
    "for x in personnages.find({\"puissance_total\" : {\"$gt\" : 120000}}, {\"_id\":0 , \"name\" : 1} ):\n",
    "    pprint(x)"
   ]
  },
  {
   "cell_type": "code",
   "execution_count": 67,
   "metadata": {},
   "outputs": [
    {
     "name": "stdout",
     "output_type": "stream",
     "text": [
      "{'_id': 'ten_commandments',\n",
      " \"total de puissance de l'équipe en moyenne\": 61400.0}\n",
      "{'_id': 'seven_deadly_sins',\n",
      " \"total de puissance de l'équipe en moyenne\": 65432.857142857145}\n",
      "{'_id': 'four_archangels',\n",
      " \"total de puissance de l'équipe en moyenne\": 201000.0}\n"
     ]
    }
   ],
   "source": [
    "for x in personnages.aggregate([{\"$group\":{\"_id\":\"$equipe\", \"total de puissance de l'équipe en moyenne\" : {\"$avg\":\"$puissance_total\"}}}]):\n",
    "    pprint(x)"
   ]
  },
  {
   "cell_type": "code",
   "execution_count": 69,
   "metadata": {},
   "outputs": [
    {
     "name": "stdout",
     "output_type": "stream",
     "text": [
      "{'Nb par race': 2, '_id': ['fee']}\n",
      "{'Nb par race': 1, '_id': ['homme']}\n",
      "{'Nb par race': 1, '_id': ['humain']}\n",
      "{'Nb par race': 9, '_id': ['demon']}\n",
      "{'Nb par race': 1, '_id': ['inconnu']}\n",
      "{'Nb par race': 1, '_id': ['pantin']}\n",
      "{'Nb par race': 4, '_id': ['ange']}\n",
      "{'Nb par race': 2, '_id': ['geant']}\n"
     ]
    }
   ],
   "source": [
    "\n",
    "for x in personnages.aggregate([{\"$group\":{\"_id\":\"$genre.race\", \"Nb par race\" : {\"$sum\":1}}}]):\n",
    "    pprint(x)"
   ]
  },
  {
   "cell_type": "code",
   "execution_count": null,
   "metadata": {},
   "outputs": [],
   "source": []
  }
 ],
 "metadata": {
  "kernelspec": {
   "display_name": "Python 3",
   "language": "python",
   "name": "python3"
  },
  "language_info": {
   "codemirror_mode": {
    "name": "ipython",
    "version": 3
   },
   "file_extension": ".py",
   "mimetype": "text/x-python",
   "name": "python",
   "nbconvert_exporter": "python",
   "pygments_lexer": "ipython3",
   "version": "3.8.5"
  }
 },
 "nbformat": 4,
 "nbformat_minor": 4
}
