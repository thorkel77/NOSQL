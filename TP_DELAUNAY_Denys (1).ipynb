{
 "cells": [
  {
   "cell_type": "code",
   "execution_count": 8,
   "metadata": {},
   "outputs": [
    {
     "name": "stdout",
     "output_type": "stream",
     "text": [
      "ok\n",
      "{'_id': ObjectId('60060bdc052055e12de68405'), 'title': 'Rocky', 'year': 1976}\n"
     ]
    }
   ],
   "source": [
    "import pymongo\n",
    "import json\n",
    "from pprint import pprint\n",
    "from pymongo import MongoClient\n",
    "client = MongoClient('localhost', 27017)\n",
    "db = client.metflix\n",
    "movies = db.movies\n",
    "users = db.users\n",
    "print('ok')\n",
    "db.movies.drop()\n",
    "db.users.drop()\n",
    "metflix = client[\"metflix\"]\n",
    "rocky = {\"title\": \"Rocky\", \"year\": 1976}\n",
    "movies.insert_one(rocky)\n",
    "items = movies.find({\"title\": \"Rocky\"})\n",
    "for item in items:\n",
    "    print(item)"
   ]
  },
  {
   "cell_type": "code",
   "execution_count": 9,
   "metadata": {},
   "outputs": [
    {
     "name": "stdout",
     "output_type": "stream",
     "text": [
      "{'_id': ObjectId('60060bdd052055e12de68406'), 'nom': 'DELAUNAY', 'Prenom': 'Denys'}\n"
     ]
    }
   ],
   "source": [
    "moi = {\"nom\": \"DELAUNAY\", \"Prenom\": \"Denys\"}\n",
    "\n",
    "\n",
    "users.insert_one(moi)\n",
    "users = users.find({\"nom\": \"DELAUNAY\"})\n",
    "for user in users:\n",
    "    print(user)"
   ]
  },
  {
   "cell_type": "code",
   "execution_count": 10,
   "metadata": {},
   "outputs": [
    {
     "name": "stdout",
     "output_type": "stream",
     "text": [
      "Insertion Réussie\n"
     ]
    }
   ],
   "source": [
    "movieslist = [\n",
    "    { \"_id\": \"tt0075148\", \"title\": \"Rocky\", \"year\": 1976 },\n",
    "    { \"_id\": \"tt0073195\", \"title\": \"Jaws\", \"year\": 1975 },\n",
    "    { \"_id\": \"tt0082694\", \"title\": \"Mad Max 2\", \"year\": 1981 },\n",
    "    { \"_id\": \"tt0082971\", \"title\": \"Raiders\", \"year\": 1981 }\n",
    "]\n",
    "try:\n",
    "    movies.insert_many(movieslist)\n",
    "    print(\"Insertion Réussie\")\n",
    "except:\n",
    "    print(\"Erreur Insertion\")\n"
   ]
  },
  {
   "cell_type": "code",
   "execution_count": 11,
   "metadata": {},
   "outputs": [
    {
     "name": "stdout",
     "output_type": "stream",
     "text": [
      "Film de 1981\n",
      "{'_id': 'tt0082694', 'title': 'Mad Max 2', 'year': 1981}\n",
      "{'_id': 'tt0082971', 'title': 'Raiders', 'year': 1981}\n"
     ]
    }
   ],
   "source": [
    "movies1981 = movies.find({\"year\": 1981})\n",
    "print('Film de 1981')\n",
    "for movie in movies1981:\n",
    "    print(movie)"
   ]
  },
  {
   "cell_type": "code",
   "execution_count": 12,
   "metadata": {},
   "outputs": [
    {
     "name": "stdout",
     "output_type": "stream",
     "text": [
      "Tout les films\n",
      "{'_id': ObjectId('60060bdc052055e12de68405'), 'title': 'Rocky', 'year': 1976}\n",
      "{'_id': 'tt0075148', 'title': 'Rocky', 'year': 1976}\n",
      "{'_id': 'tt0073195', 'title': 'Jaws', 'year': 1975}\n",
      "{'_id': 'tt0082694', 'title': 'Mad Max 2', 'year': 1981}\n",
      "{'_id': 'tt0082971', 'title': 'Raiders', 'year': 1981}\n"
     ]
    }
   ],
   "source": [
    "allmovies = movies.find()\n",
    "print(\"Tout les films\")\n",
    "for movie in allmovies:\n",
    "    print(movie)"
   ]
  },
  {
   "cell_type": "code",
   "execution_count": 13,
   "metadata": {},
   "outputs": [
    {
     "name": "stdout",
     "output_type": "stream",
     "text": [
      "Film Jaws\n",
      "{'_id': 'tt0073195', 'title': 'Jaws', 'year': 1975}\n"
     ]
    }
   ],
   "source": [
    "Jaws = movies.find_one({\"title\": \"Jaws\"})\n",
    "print('Film Jaws')\n",
    "print(Jaws)"
   ]
  },
  {
   "cell_type": "code",
   "execution_count": 14,
   "metadata": {},
   "outputs": [
    {
     "name": "stdout",
     "output_type": "stream",
     "text": [
      "Création de la DB Réussie\n"
     ]
    }
   ],
   "source": [
    "db2 = client.movies_artist\n",
    "movies = db2.movies\n",
    "artist = db2.artist\n",
    "movies_artist = client[\"movies_artist\"]\n",
    "print(\"Création de la DB Réussie\")\n"
   ]
  },
  {
   "cell_type": "code",
   "execution_count": 15,
   "metadata": {},
   "outputs": [
    {
     "data": {
      "text/plain": [
       "<pymongo.results.InsertManyResult at 0x1dd44c33bc8>"
      ]
     },
     "execution_count": 15,
     "metadata": {},
     "output_type": "execute_result"
    }
   ],
   "source": [
    "with open('movies.json') as f:\n",
    "    file_data = json.load(f)\n",
    "with open('movies_suite.json') as f2:\n",
    "    file_data2 = json.load(f2)\n",
    "with open('artists.json') as f3:\n",
    "    file_data3 = json.load(f3)\n",
    "movies.drop()\n",
    "artist.drop()\n",
    "movies.insert_many(file_data)\n",
    "movies.insert_many(file_data2)\n",
    "artist.insert_many(file_data3)\n"
   ]
  },
  {
   "cell_type": "code",
   "execution_count": 16,
   "metadata": {},
   "outputs": [
    {
     "name": "stdout",
     "output_type": "stream",
     "text": [
      "{'_id': 'movie:3',\n",
      " 'actors': [{'_id': 'artist:109', 'role': 'Rose DeWitt Bukater'},\n",
      "            {'_id': 'artist:110', 'role': 'Jack Dawson'}],\n",
      " 'country': 'USA',\n",
      " 'director': {'_id': 'artist:6'},\n",
      " 'genre': 'drama',\n",
      " 'summary': 'Conduite par Brock Lovett, une expÃ©dition amÃ©ricaine fouillant '\n",
      "            \"l'Ã©pave du Titanic remonte Ã\\xa0 la surface le croquis d'une \"\n",
      "            'femme nue. AlertÃ©e par les mÃ©dias la dame en question, Rose '\n",
      "            \"DeWitt Bukater, aujourd'hui centenaire, rejoint les lieux du \"\n",
      "            \"naufrage, d'oÃ¹ elle entreprend de conter le rÃ©cit de son \"\n",
      "            'fascinant, Ã©trange et tragique voyage... ',\n",
      " 'title': 'Titanic',\n",
      " 'year': 1997}\n"
     ]
    }
   ],
   "source": [
    "for x in movies.find({\"year\": 1997, \"actors.role\": \"Jack Dawson\"} ):\n",
    " pprint(x)"
   ]
  },
  {
   "cell_type": "code",
   "execution_count": 17,
   "metadata": {},
   "outputs": [
    {
     "name": "stdout",
     "output_type": "stream",
     "text": [
      "{'title': 'Blade Runner'}\n",
      "{'title': 'PiÃ¨ge de cristal'}\n",
      "{'title': '58 minutes pour vivre'}\n",
      "{'title': 'Van Gogh'}\n",
      "{'title': 'Seven'}\n",
      "{'title': 'Twelve Monkeys'}\n",
      "{'title': 'Le last_name de la rose'}\n",
      "{'title': 'Pulp fiction'}\n",
      "{'title': 'Mary Ã\\xa0 tout prix'}\n",
      "{'title': 'Terminator'}\n",
      "{'title': 'Les dents de la mer'}\n",
      "{'title': 'Le silence des agneaux'}\n"
     ]
    }
   ],
   "source": [
    "for x in movies.find({},{ \"_id\": 0, \"title\": 1 }).skip(9).limit(12):\n",
    " pprint(x)"
   ]
  },
  {
   "cell_type": "code",
   "execution_count": 18,
   "metadata": {},
   "outputs": [
    {
     "name": "stdout",
     "output_type": "stream",
     "text": [
      "{'title': '58 minutes pour vivre'}\n",
      "{'title': 'Alien'}\n",
      "{'title': 'American Beauty'}\n",
      "{'title': 'Bad Lieutenant'}\n",
      "{'title': 'Batman begins'}\n",
      "{'title': 'Blade Runner'}\n",
      "{'title': 'Casino'}\n",
      "{'title': 'Casino Royale'}\n",
      "{'title': 'De bruit et de fureur'}\n",
      "{'title': 'Django unchained'}\n",
      "{'title': 'Eyes Wide Shut'}\n",
      "{'title': 'Fargo'}\n"
     ]
    }
   ],
   "source": [
    "for x in movies.find({},{ \"_id\": 0, \"title\": 1 }).limit(12).sort(\"title\", 1):\n",
    "  pprint(x)"
   ]
  },
  {
   "cell_type": "code",
   "execution_count": 19,
   "metadata": {},
   "outputs": [
    {
     "name": "stdout",
     "output_type": "stream",
     "text": [
      "{'title': 'Volte/Face'}\n",
      "{'title': 'Vertigo'}\n",
      "{'title': 'Van Gogh'}\n",
      "{'title': 'Usual suspects'}\n",
      "{'title': 'Une journÃ©e en enfer'}\n",
      "{'title': 'Un prophÃ¨te'}\n",
      "{'title': 'Twelve Monkeys'}\n",
      "{'title': 'Top Gun'}\n",
      "{'title': 'Titanic'}\n",
      "{'title': 'The Matrix reloaded'}\n",
      "{'title': 'The Matrix Revolutions'}\n",
      "{'title': 'The Dark Knight Rises'}\n"
     ]
    }
   ],
   "source": [
    "for x in movies.find({},{ \"_id\": 0, \"title\": 1 }).limit(12).sort(\"title\", -1):\n",
    "  pprint(x)"
   ]
  },
  {
   "cell_type": "code",
   "execution_count": 20,
   "metadata": {},
   "outputs": [
    {
     "name": "stdout",
     "output_type": "stream",
     "text": [
      "{'_id': 'movie:2',\n",
      " 'genre': 'Science-fiction',\n",
      " 'summary': \"PrÃ¨s d'un vaisseau spatial Ã©chouÃ© sur une lointaine planÃ¨te, \"\n",
      "            'des Terriens en mission dÃ©couvrent de bien Ã©tranges \"oeufs\". '\n",
      "            \"Ils en ramÃ¨nent un Ã\\xa0 bord, ignorant qu'ils viennent \"\n",
      "            \"d'introduire parmi eux un huitiÃ¨me passager particuliÃ¨rement \"\n",
      "            'fÃ©roce et meurtrier. ',\n",
      " 'title': 'Alien'}\n"
     ]
    }
   ],
   "source": [
    "for x in movies.find({\"_id\" : \"movie:2\"}, {\"title\" : 1, \"genre\" : 1, \"genre\": 1, \"summary\":1}):\n",
    " pprint(x)"
   ]
  },
  {
   "cell_type": "code",
   "execution_count": 21,
   "metadata": {},
   "outputs": [
    {
     "name": "stdout",
     "output_type": "stream",
     "text": [
      "2\n"
     ]
    },
    {
     "name": "stderr",
     "output_type": "stream",
     "text": [
      "C:\\Users\\DENYS\\anaconda3\\lib\\site-packages\\ipykernel_launcher.py:1: DeprecationWarning: count is deprecated. Use Collection.count_documents instead.\n",
      "  \"\"\"Entry point for launching an IPython kernel.\n"
     ]
    }
   ],
   "source": [
    "v1979 = movies.find({\"year\": 1979},{ \"_id\": 0, \"title\": 1, \"year\":1 }).count()\n",
    "print(v1979)"
   ]
  },
  {
   "cell_type": "code",
   "execution_count": 104,
   "metadata": {},
   "outputs": [
    {
     "name": "stdout",
     "output_type": "stream",
     "text": [
      "{'_id': 'movie:3',\n",
      " 'actors': [{'_id': 'artist:109', 'role': 'Rose DeWitt Bukater'},\n",
      "            {'_id': 'artist:110', 'role': 'Jack Dawson'}],\n",
      " 'country': 'USA',\n",
      " 'director': {'_id': 'artist:6'},\n",
      " 'genre': 'drama',\n",
      " 'summary': 'Conduite par Brock Lovett, une expÃ©dition amÃ©ricaine fouillant '\n",
      "            \"l'Ã©pave du Titanic remonte Ã\\xa0 la surface le croquis d'une \"\n",
      "            'femme nue. AlertÃ©e par les mÃ©dias la dame en question, Rose '\n",
      "            \"DeWitt Bukater, aujourd'hui centenaire, rejoint les lieux du \"\n",
      "            \"naufrage, d'oÃ¹ elle entreprend de conter le rÃ©cit de son \"\n",
      "            'fascinant, Ã©trange et tragique voyage... ',\n",
      " 'title': 'Titanic',\n",
      " 'year': 1997}\n",
      "{'_id': 'movie:5',\n",
      " 'actors': [{'_id': 'artist:11', 'role': 'Sean Archer/Castor Troy'},\n",
      "            {'_id': 'artist:12', 'role': 'Castor Troy/Sean Archer'}],\n",
      " 'country': 'USA',\n",
      " 'director': {'_id': 'artist:10'},\n",
      " 'genre': 'Action',\n",
      " 'summary': \"Directeur d'une unitÃ© anti-terroriste, Sean Archer recherche \"\n",
      "            'Castor Troy, un criminel responsable de la mort de son fils six '\n",
      "            \"ans plus tÃ´t. Il parvient Ã\\xa0 l'arrÃªter mais apprend que Troy \"\n",
      "            'a cachÃ© une bombe au Palais des CongrÃ¨s de Los Angeles. Seul le '\n",
      "            \"frÃ¨re de Troy peut la dÃ©samorcer et, pour l'approcher, Archer \"\n",
      "            'se fait greffer le visage de Troy. ',\n",
      " 'title': 'Volte/Face',\n",
      " 'year': 1997}\n",
      "{'_id': 'movie:9',\n",
      " 'actors': [{'_id': 'artist:23', 'role': 'Maximus'},\n",
      "            {'_id': 'artist:147', 'role': 'Commode'},\n",
      "            {'_id': 'artist:148', 'role': 'Lucilla'},\n",
      "            {'_id': 'artist:149', 'role': 'Marc Aurele'}],\n",
      " 'country': 'USA',\n",
      " 'director': {'_id': 'artist:4'},\n",
      " 'genre': 'drama',\n",
      " 'summary': 'Le gÃ©nÃ©ral romain Maximus est le plus '\n",
      "            \"fidÃ¨le                    soutien de l'empereur Marc AurÃ¨le, \"\n",
      "            \"qu'il a                    conduit de victoire en victoire avec \"\n",
      "            'une                    bravoure et un dÃ©vouement '\n",
      "            'exemplaires.                    Jaloux du prestige de Maximus, et '\n",
      "            \"plus                    encore de l'amour que lui voue \"\n",
      "            \"l'empereur,                    le fils de Marc-AurÃ¨le, Commode, \"\n",
      "            \"s'arroge                    brutalement le pouvoir, puis \"\n",
      "            \"ordonne                    l'arrestation du gÃ©nÃ©ral et son \"\n",
      "            'exÃ©cution.                    Maximus Ã©chappe Ã\\xa0 ses '\n",
      "            'assassins mais ne peut                    empÃªcher le massacre '\n",
      "            'de sa famille. CapturÃ©                    par un marchand '\n",
      "            \"d'esclaves, il devient                    gladiateur et prÃ©pare \"\n",
      "            'sa vengeance.',\n",
      " 'title': 'Gladiator',\n",
      " 'year': 2000}\n"
     ]
    }
   ],
   "source": [
    "for x in movies.find({\"$or\" : [{\"year\": 1997}, {\"actors._id\": \"artist:147\"}] }).limit(3):\n",
    " pprint(x)"
   ]
  },
  {
   "cell_type": "code",
   "execution_count": 105,
   "metadata": {},
   "outputs": [
    {
     "name": "stdout",
     "output_type": "stream",
     "text": [
      "{'_id': 'movie:3',\n",
      " 'actors': [{'_id': 'artist:109', 'role': 'Rose DeWitt Bukater'},\n",
      "            {'_id': 'artist:110', 'role': 'Jack Dawson'}],\n",
      " 'country': 'USA',\n",
      " 'director': {'_id': 'artist:6'},\n",
      " 'genre': 'drama',\n",
      " 'summary': 'Conduite par Brock Lovett, une expÃ©dition amÃ©ricaine fouillant '\n",
      "            \"l'Ã©pave du Titanic remonte Ã\\xa0 la surface le croquis d'une \"\n",
      "            'femme nue. AlertÃ©e par les mÃ©dias la dame en question, Rose '\n",
      "            \"DeWitt Bukater, aujourd'hui centenaire, rejoint les lieux du \"\n",
      "            \"naufrage, d'oÃ¹ elle entreprend de conter le rÃ©cit de son \"\n",
      "            'fascinant, Ã©trange et tragique voyage... ',\n",
      " 'title': 'Titanic',\n",
      " 'year': 1997}\n"
     ]
    }
   ],
   "source": [
    "for x in movies.find({\"$and\" : [{\"year\": 1997}, {\"actors.role\": \"Jack Dawson\"}]} ):\n",
    "    pprint(x)"
   ]
  },
  {
   "cell_type": "code",
   "execution_count": 106,
   "metadata": {},
   "outputs": [
    {
     "name": "stdout",
     "output_type": "stream",
     "text": [
      "{'_id': 'movie:3',\n",
      " 'actors': [{'_id': 'artist:109', 'role': 'Rose DeWitt Bukater'},\n",
      "            {'_id': 'artist:110', 'role': 'Jack Dawson'}],\n",
      " 'country': 'USA',\n",
      " 'director': {'_id': 'artist:6'},\n",
      " 'genre': 'drama',\n",
      " 'summary': 'Conduite par Brock Lovett, une expÃ©dition amÃ©ricaine fouillant '\n",
      "            \"l'Ã©pave du Titanic remonte Ã\\xa0 la surface le croquis d'une \"\n",
      "            'femme nue. AlertÃ©e par les mÃ©dias la dame en question, Rose '\n",
      "            \"DeWitt Bukater, aujourd'hui centenaire, rejoint les lieux du \"\n",
      "            \"naufrage, d'oÃ¹ elle entreprend de conter le rÃ©cit de son \"\n",
      "            'fascinant, Ã©trange et tragique voyage... ',\n",
      " 'title': 'Titanic',\n",
      " 'year': 1997}\n"
     ]
    }
   ],
   "source": [
    "for x in movies.find({\"year\": 1997, \"actors.role\": \"Jack Dawson\"} ):\n",
    " pprint(x)"
   ]
  },
  {
   "cell_type": "code",
   "execution_count": 107,
   "metadata": {},
   "outputs": [
    {
     "name": "stdout",
     "output_type": "stream",
     "text": [
      "{'_id': 'movie:9',\n",
      " 'actors': [{'_id': 'artist:23', 'role': 'Maximus'},\n",
      "            {'_id': 'artist:147', 'role': 'Commode'},\n",
      "            {'_id': 'artist:148', 'role': 'Lucilla'},\n",
      "            {'_id': 'artist:149', 'role': 'Marc Aurele'}],\n",
      " 'director': {'_id': 'artist:4'},\n",
      " 'title': 'Gladiator',\n",
      " 'year': 2000}\n",
      "{'_id': 'movie:10',\n",
      " 'actors': [{'_id': 'artist:24', 'role': 'Deckard'},\n",
      "            {'_id': 'artist:25', 'role': 'Batty'}],\n",
      " 'director': {'_id': 'artist:4'},\n",
      " 'title': 'Blade Runner',\n",
      " 'year': 1982}\n",
      "{'_id': 'movie:2',\n",
      " 'actors': [{'_id': 'artist:5', 'role': 'Ripley'}],\n",
      " 'director': {'_id': 'artist:4'},\n",
      " 'title': 'Alien',\n",
      " 'year': 1979}\n"
     ]
    }
   ],
   "source": [
    "for x in movies.find({\"director._id\":\"artist:4\"}, {\"country\":0, \"summary\":0, \"genre\":0}).sort(\"year\", -1):\n",
    " pprint(x)"
   ]
  },
  {
   "cell_type": "code",
   "execution_count": 108,
   "metadata": {},
   "outputs": [
    {
     "name": "stdout",
     "output_type": "stream",
     "text": [
      "{'_id': 'movie:9',\n",
      " 'actors': [{'_id': 'artist:23', 'role': 'Maximus'},\n",
      "            {'_id': 'artist:147', 'role': 'Commode'},\n",
      "            {'_id': 'artist:148', 'role': 'Lucilla'},\n",
      "            {'_id': 'artist:149', 'role': 'Marc Aurele'}],\n",
      " 'director': {'_id': 'artist:4'},\n",
      " 'title': 'Gladiator',\n",
      " 'year': 2000}\n"
     ]
    }
   ],
   "source": [
    "for x in movies.find({\"director._id\":\"artist:4\", \"actors.role\":\"Maximus\"}, {\"country\":0, \"summary\":0, \"genre\":0}).sort(\"year\", -1):\n",
    " pprint(x)\n",
    "critere_recherche = {\"director._id\":\"artist:4\", \"actors.role\":\"Maximus\"}\n",
    "projection = {\"country\":0, \"summary\":0, \"genre\":0}\n",
    "tri = '(\"year\", -1)'"
   ]
  },
  {
   "cell_type": "code",
   "execution_count": 109,
   "metadata": {},
   "outputs": [
    {
     "name": "stdout",
     "output_type": "stream",
     "text": [
      "{'_id': 'movie:9',\n",
      " 'actors': [{'_id': 'artist:23', 'role': 'Maximus'},\n",
      "            {'_id': 'artist:147', 'role': 'Commode'},\n",
      "            {'_id': 'artist:148', 'role': 'Lucilla'},\n",
      "            {'_id': 'artist:149', 'role': 'Marc Aurele'}],\n",
      " 'director': {'_id': 'artist:4'},\n",
      " 'title': 'Gladiator',\n",
      " 'year': 2000}\n"
     ]
    }
   ],
   "source": [
    "for x in movies.find(critere_recherche, projection).sort(tri):\n",
    " pprint(x)"
   ]
  },
  {
   "cell_type": "code",
   "execution_count": 110,
   "metadata": {},
   "outputs": [
    {
     "name": "stdout",
     "output_type": "stream",
     "text": [
      "{'_id': 'movie:9', 'title': 'Gladiator', 'year': 2000}\n",
      "{'_id': 'movie:87', 'title': 'Memento', 'year': 2000}\n",
      "{'_id': 'movie:62', 'title': 'Stalingrad', 'year': 2001}\n",
      "{'_id': 'movie:47', 'title': 'Spider-Man', 'year': 2002}\n",
      "{'_id': 'movie:49', 'title': 'The Matrix reloaded', 'year': 2003}\n",
      "{'_id': 'movie:50', 'title': 'The Matrix Revolutions', 'year': 2003}\n",
      "{'_id': 'movie:60', 'title': 'Lost in Translation', 'year': 2003}\n",
      "{'_id': 'movie:61', 'title': 'Kill Bill', 'year': 2003}\n",
      "{'_id': 'movie:63', 'title': 'Million Dollar Baby', 'year': 2005}\n",
      "{'_id': 'movie:88', 'title': 'Batman begins', 'year': 2005}\n"
     ]
    }
   ],
   "source": [
    "for x in movies.find( {\"year\": { \"$gte\": 2000, \"$lte\": 2005 }}, {\"year\":1, \"title\":1,}).sort(\"year\",1):\n",
    " pprint(x)"
   ]
  },
  {
   "cell_type": "code",
   "execution_count": 111,
   "metadata": {},
   "outputs": [
    {
     "name": "stdout",
     "output_type": "stream",
     "text": [
      "{'_id': 'movie:56',\n",
      " 'actors': [{'_id': 'artist:1', 'role': 'Mary Corleone'},\n",
      "            {'_id': 'artist:176', 'role': 'Michael Corleone'},\n",
      "            {'_id': 'artist:183', 'role': 'Kay Adams'},\n",
      "            {'_id': 'artist:186', 'role': 'Vincent Mancini'}],\n",
      " 'title': 'Le parrain III',\n",
      " 'year': 1990}\n",
      "{'_id': 'movie:53',\n",
      " 'actors': [{'_id': 'artist:98', 'role': 'Le lieutenant'}],\n",
      " 'title': 'Bad Lieutenant',\n",
      " 'year': 1992}\n",
      "{'_id': 'movie:36',\n",
      " 'actors': [{'_id': 'artist:37', 'role': 'Mr. Brown'},\n",
      "            {'_id': 'artist:98', 'role': 'Mr. White/Larry'},\n",
      "            {'_id': 'artist:99', 'role': 'Freddy Newendyke/Mr. Orange'},\n",
      "            {'_id': 'artist:100', 'role': 'Nice Guy Eddie'},\n",
      "            {'_id': 'artist:215', 'role': 'Mr Blonde'},\n",
      "            {'_id': 'artist:217', 'role': 'Mr Pink'},\n",
      "            {'_id': 'artist:218', 'role': 'Mr Blue'}],\n",
      " 'title': 'Reservoir dogs',\n",
      " 'year': 1992}\n",
      "{'_id': 'movie:17',\n",
      " 'actors': [{'_id': 'artist:11', 'role': 'Vincent Vega'},\n",
      "            {'_id': 'artist:27', 'role': 'Butch Coolidge'},\n",
      "            {'_id': 'artist:37', 'role': 'Jimmy Dimmick'},\n",
      "            {'_id': 'artist:38', 'role': 'Jules Winnfield'},\n",
      "            {'_id': 'artist:39', 'role': 'Jody'},\n",
      "            {'_id': 'artist:40', 'role': 'Mia Wallace'},\n",
      "            {'_id': 'artist:97', 'role': 'Capt. Koons'},\n",
      "            {'_id': 'artist:98', 'role': 'Winston \"The Wolf\" Wolfe'},\n",
      "            {'_id': 'artist:99', 'role': 'Pumpkin (Ringo)'}],\n",
      " 'title': 'Pulp fiction',\n",
      " 'year': 1994}\n"
     ]
    }
   ],
   "source": [
    "for x in movies.find({\"actors._id\": {\"$in\": [\"artist:34\",\"artist:98\",\"artist:1\"]}}, {\"title\":1, \"year\":1, \"actors\":1}).sort([(\"year\", 1), (\"title\", 1)]):\n",
    " pprint(x)"
   ]
  },
  {
   "cell_type": "code",
   "execution_count": 81,
   "metadata": {},
   "outputs": [
    {
     "name": "stdout",
     "output_type": "stream",
     "text": [
      "{'_id': 'movie:9',\n",
      " 'actors': [{'_id': 'artist:23', 'role': 'Maximus'},\n",
      "            {'_id': 'artist:147', 'role': 'Commode'},\n",
      "            {'_id': 'artist:148', 'role': 'Lucilla'},\n",
      "            {'_id': 'artist:149', 'role': 'Marc Aurele'}],\n",
      " 'country': 'USA',\n",
      " 'director': {'_id': 'artist:4'},\n",
      " 'genre': 'drama',\n",
      " 'summary': 'Le gÃ©nÃ©ral romain Maximus est le plus '\n",
      "            \"fidÃ¨le                    soutien de l'empereur Marc AurÃ¨le, \"\n",
      "            \"qu'il a                    conduit de victoire en victoire avec \"\n",
      "            'une                    bravoure et un dÃ©vouement '\n",
      "            'exemplaires.                    Jaloux du prestige de Maximus, et '\n",
      "            \"plus                    encore de l'amour que lui voue \"\n",
      "            \"l'empereur,                    le fils de Marc-AurÃ¨le, Commode, \"\n",
      "            \"s'arroge                    brutalement le pouvoir, puis \"\n",
      "            \"ordonne                    l'arrestation du gÃ©nÃ©ral et son \"\n",
      "            'exÃ©cution.                    Maximus Ã©chappe Ã\\xa0 ses '\n",
      "            'assassins mais ne peut                    empÃªcher le massacre '\n",
      "            'de sa famille. CapturÃ©                    par un marchand '\n",
      "            \"d'esclaves, il devient                    gladiateur et prÃ©pare \"\n",
      "            'sa vengeance.',\n",
      " 'title': 'Gladiator',\n",
      " 'year': 2000}\n"
     ]
    }
   ],
   "source": [
    "for x in movies.find({\"actors._id\": {\"$all\": [\"artist:23\",\"artist:147\"]}}):\n",
    " pprint(x)"
   ]
  },
  {
   "cell_type": "code",
   "execution_count": 82,
   "metadata": {},
   "outputs": [
    {
     "name": "stdout",
     "output_type": "stream",
     "text": [
      "{'_id': 'movie:92', 'actors': [], 'title': 'Nous trois ou rien', 'year': 2015}\n",
      "{'_id': 'movie:85',\n",
      " 'actors': [{'_id': 'artist:267', 'role': 'Cooper'},\n",
      "            {'_id': 'artist:268', 'role': '   Brand '},\n",
      "            {'_id': 'artist:269', 'role': 'Professor Brand'}],\n",
      " 'title': 'Interstellar',\n",
      " 'year': 2014}\n",
      "{'_id': 'movie:90',\n",
      " 'actors': [{'_id': 'artist:22', 'role': 'Lucius Fox'},\n",
      "            {'_id': 'artist:116', 'role': 'Commissioner Gordon'},\n",
      "            {'_id': 'artist:268', 'role': 'Selina'},\n",
      "            {'_id': 'artist:269', 'role': 'Alfred'},\n",
      "            {'_id': 'artist:271', 'role': 'Miranda'},\n",
      "            {'_id': 'artist:274', 'role': 'Bruce Wayne / Batman'}],\n",
      " 'title': 'The Dark Knight Rises',\n",
      " 'year': 2012}\n",
      "{'_id': 'movie:78',\n",
      " 'actors': [{'_id': 'artist:110', 'role': 'Calvin Candie'},\n",
      "            {'_id': 'artist:212', 'role': 'Stephen'},\n",
      "            {'_id': 'artist:255', 'role': 'Django'},\n",
      "            {'_id': 'artist:256', 'role': 'Dr. King Schultz'}],\n",
      " 'title': 'Django unchained',\n",
      " 'year': 2012}\n",
      "{'_id': 'movie:86',\n",
      " 'actors': [{'_id': 'artist:110', 'role': 'Cobb'},\n",
      "            {'_id': 'artist:269', 'role': 'Miles'},\n",
      "            {'_id': 'artist:270', 'role': 'Ariadne'},\n",
      "            {'_id': 'artist:271', 'role': 'Mal'}],\n",
      " 'title': 'Inception',\n",
      " 'year': 2010}\n"
     ]
    }
   ],
   "source": [
    "for x in movies.find({\"actors._id\": {\"$nin\": [\"artist:34\", \"artist:98\", \"artist:1\"]}}, {\"title\":1, \"year\":1, \"actors\":1}).sort([(\"year\", -1), (\"title\", -1)]).limit(5):\n",
    " pprint(x)\n"
   ]
  },
  {
   "cell_type": "code",
   "execution_count": 83,
   "metadata": {},
   "outputs": [
    {
     "name": "stdout",
     "output_type": "stream",
     "text": [
      "0\n",
      "6\n"
     ]
    },
    {
     "name": "stderr",
     "output_type": "stream",
     "text": [
      "C:\\Users\\DENYS\\anaconda3\\lib\\site-packages\\ipykernel_launcher.py:1: DeprecationWarning: count is deprecated. Use estimated_document_count or count_documents instead. Please note that $where must be replaced by $expr, $near must be replaced by $geoWithin with $center, and $nearSphere must be replaced by $geoWithin with $centerSphere\n",
      "  \"\"\"Entry point for launching an IPython kernel.\n",
      "C:\\Users\\DENYS\\anaconda3\\lib\\site-packages\\ipykernel_launcher.py:2: DeprecationWarning: count is deprecated. Use estimated_document_count or count_documents instead. Please note that $where must be replaced by $expr, $near must be replaced by $geoWithin with $center, and $nearSphere must be replaced by $geoWithin with $centerSphere\n",
      "  \n"
     ]
    }
   ],
   "source": [
    "print(movies.count({\"actors\": {\"$exists\": False}}))\n",
    "print(movies.count({\"actors\": []}))"
   ]
  },
  {
   "cell_type": "code",
   "execution_count": 84,
   "metadata": {},
   "outputs": [
    {
     "name": "stdout",
     "output_type": "stream",
     "text": [
      "{'actors': [], 'title': 'Sacrifice'}\n",
      "{'actors': [], 'title': 'Kagemusha'}\n",
      "{'actors': [], 'title': 'FenÃªtre sur cour'}\n",
      "{'actors': [], 'title': 'Pour quelques dollars de plus'}\n",
      "{'actors': [], 'title': 'Inglourious Basterds'}\n",
      "{'actors': [], 'title': 'Nous trois ou rien'}\n"
     ]
    }
   ],
   "source": [
    "for x  in movies.find({\"actors\": []}, {\"_id\" : 0, \"title\": 1, \"actors\" : 1} ):\n",
    " pprint(x)"
   ]
  },
  {
   "cell_type": "code",
   "execution_count": 85,
   "metadata": {},
   "outputs": [],
   "source": [
    "# eastwood = artist.findOne({\"first_name\": \"Clint\", \"last_name\": \"Eastwood\"})\n",
    "# for x in movies.find({\"director._id\": eastwood['_id']}, {\"title\": 1, \"director._id\" : 1}):\n",
    "#     pprint(x)\n",
    "# for x in movies.find({\"title\": {'$regex': 'RE'}}, {\"actors\": \"null\", \"summary\": 0}):\n",
    "#     pprint(x)\n"
   ]
  },
  {
   "cell_type": "code",
   "execution_count": 86,
   "metadata": {},
   "outputs": [
    {
     "name": "stdout",
     "output_type": "stream",
     "text": [
      "{'_id': 'movie:9',\n",
      " 'actors': [{'_id': 'artist:23', 'role': 'Maximus'},\n",
      "            {'_id': 'artist:147', 'role': 'Commode'},\n",
      "            {'_id': 'artist:148', 'role': 'Lucilla'},\n",
      "            {'_id': 'artist:149', 'role': 'Marc Aurele'}],\n",
      " 'title': 'Gladiator'}\n"
     ]
    }
   ],
   "source": [
    "for x in movies.find ({\"actors._id\": \"artist:147\"}, {\"title\": 1, \"actors\": 1} ):\n",
    " pprint(x)"
   ]
  },
  {
   "cell_type": "code",
   "execution_count": 87,
   "metadata": {},
   "outputs": [
    {
     "name": "stdout",
     "output_type": "stream",
     "text": [
      "{'_id': 'movie:9',\n",
      " 'country': 'USA',\n",
      " 'director': {'_id': 'artist:4'},\n",
      " 'genre': 'drama',\n",
      " 'title': 'Gladiator',\n",
      " 'year': 2000}\n"
     ]
    }
   ],
   "source": [
    "for x in movies.find ({\"actors._id\": \"artist:147\"}, {\"actors\": 0, \"summary\": 0} ):\n",
    " pprint(x)"
   ]
  },
  {
   "cell_type": "code",
   "execution_count": null,
   "metadata": {},
   "outputs": [],
   "source": []
  },
  {
   "cell_type": "code",
   "execution_count": null,
   "metadata": {},
   "outputs": [],
   "source": []
  }
 ],
 "metadata": {
  "kernelspec": {
   "display_name": "Python 3",
   "language": "python",
   "name": "python3"
  },
  "language_info": {
   "codemirror_mode": {
    "name": "ipython",
    "version": 3
   },
   "file_extension": ".py",
   "mimetype": "text/x-python",
   "name": "python",
   "nbconvert_exporter": "python",
   "pygments_lexer": "ipython3",
   "version": "3.7.6"
  }
 },
 "nbformat": 4,
 "nbformat_minor": 4
}
